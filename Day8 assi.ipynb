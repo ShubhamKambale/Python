{
 "cells": [
  {
   "cell_type": "code",
   "execution_count": null,
   "metadata": {
    "id": "FJTsy5gkAVV9"
   },
   "outputs": [],
   "source": [
    "#enumerate"
   ]
  },
  {
   "cell_type": "code",
   "execution_count": null,
   "metadata": {
    "id": "K0JGUrWoAeBx"
   },
   "outputs": [],
   "source": [
    "?enumerate"
   ]
  },
  {
   "cell_type": "code",
   "execution_count": null,
   "metadata": {
    "id": "Ddcc7dDWAgLK"
   },
   "outputs": [],
   "source": [
    "list1=[1,2,3,4]"
   ]
  },
  {
   "cell_type": "code",
   "execution_count": null,
   "metadata": {
    "id": "4RRGQQ0wA2ED"
   },
   "outputs": [],
   "source": [
    "d=dict(enumerate(list1))"
   ]
  },
  {
   "cell_type": "code",
   "execution_count": null,
   "metadata": {
    "id": "f_wXa6XbA7Ek"
   },
   "outputs": [],
   "source": [
    "d."
   ]
  },
  {
   "cell_type": "code",
   "execution_count": null,
   "metadata": {
    "id": "yYEU-PyIBQxO"
   },
   "outputs": [],
   "source": [
    "d.keys()"
   ]
  },
  {
   "cell_type": "code",
   "execution_count": null,
   "metadata": {
    "id": "26Tra6a4BSyx"
   },
   "outputs": [],
   "source": [
    "d.values()"
   ]
  },
  {
   "cell_type": "code",
   "execution_count": null,
   "metadata": {
    "id": "IzdCqizrBXCy"
   },
   "outputs": [],
   "source": [
    "d[0]"
   ]
  },
  {
   "cell_type": "code",
   "execution_count": null,
   "metadata": {
    "id": "HZn2r5UnBbQT"
   },
   "outputs": [],
   "source": [
    "#dictionary comprehension\n",
    "syntax:\n",
    "={key:value for (key,value) in iterable if condition}"
   ]
  },
  {
   "cell_type": "code",
   "execution_count": null,
   "metadata": {
    "id": "pwpgRZdqB6e1"
   },
   "outputs": [],
   "source": [
    "list1"
   ]
  },
  {
   "cell_type": "code",
   "execution_count": null,
   "metadata": {
    "id": "8ob6QmbtB9FF"
   },
   "outputs": [],
   "source": [
    "dic={}\n",
    "for i in list1:\n",
    "    if i%2==0:\n",
    "        dic[i]=i*2\n",
    "print(dic)"
   ]
  },
  {
   "cell_type": "code",
   "execution_count": null,
   "metadata": {
    "id": "qkn-IAnWCMMw"
   },
   "outputs": [],
   "source": [
    "d={i:i*2 for i in list1 if i%2==0}"
   ]
  },
  {
   "cell_type": "code",
   "execution_count": null,
   "metadata": {
    "id": "tGvXBXlnCfi8"
   },
   "outputs": [],
   "source": [
    "d"
   ]
  },
  {
   "cell_type": "code",
   "execution_count": null,
   "metadata": {
    "id": "WRoE_HBmCf8c"
   },
   "outputs": [],
   "source": [
    "a=[\"a\",\"b\"]\n",
    "b=[1,2]"
   ]
  },
  {
   "cell_type": "code",
   "execution_count": null,
   "metadata": {
    "id": "bbjxZzJEC_ep"
   },
   "outputs": [],
   "source": [
    "dict1={}\n",
    "for key, value in zip(a,b):\n",
    "    dict1[key]=value\n",
    "print(dict1)"
   ]
  },
  {
   "cell_type": "code",
   "execution_count": null,
   "metadata": {
    "id": "7cCnFCcoDXF-"
   },
   "outputs": [],
   "source": [
    "d1={key:value for (key, value) in zip(a,b)}"
   ]
  },
  {
   "cell_type": "code",
   "execution_count": null,
   "metadata": {
    "id": "hr_ZSUuwDnM6"
   },
   "outputs": [],
   "source": [
    "d1"
   ]
  },
  {
   "cell_type": "code",
   "execution_count": null,
   "metadata": {
    "id": "ts3jMx_jDoJY"
   },
   "outputs": [],
   "source": [
    "#generator comprehension\n",
    "syntax:\n",
    "(expression for var in list if condition)"
   ]
  },
  {
   "cell_type": "code",
   "execution_count": null,
   "metadata": {
    "id": "yxZR3fx4ERhG"
   },
   "outputs": [],
   "source": [
    "list1"
   ]
  },
  {
   "cell_type": "code",
   "execution_count": null,
   "metadata": {
    "id": "GCHvH1EpEZdZ"
   },
   "outputs": [],
   "source": [
    "g=(i*2 for i in list1)"
   ]
  },
  {
   "cell_type": "code",
   "execution_count": null,
   "metadata": {
    "id": "VXwFKHiOEgHc"
   },
   "outputs": [],
   "source": [
    "g"
   ]
  },
  {
   "cell_type": "code",
   "execution_count": null,
   "metadata": {
    "id": "-fCPaCFyEpej"
   },
   "outputs": [],
   "source": [
    "type(g)"
   ]
  },
  {
   "cell_type": "code",
   "execution_count": null,
   "metadata": {
    "id": "hBWKwsheEhSs"
   },
   "outputs": [],
   "source": [
    "for j in g:\n",
    "    print(j)"
   ]
  },
  {
   "cell_type": "code",
   "execution_count": null,
   "metadata": {
    "id": "72K0-LtEEnvw"
   },
   "outputs": [],
   "source": [
    "mylist = iter([\"apple\", \"banana\", \"cherry\"])\n",
    "x = next(mylist)\n",
    "print(x)\n",
    "x = next(mylist)\n",
    "print(x)\n",
    "x = next(mylist)\n",
    "print(x)"
   ]
  },
  {
   "cell_type": "code",
   "execution_count": null,
   "metadata": {
    "id": "r_xEESrEGcZC"
   },
   "outputs": [],
   "source": [
    "#generator\n",
    "#we use yield keyword rather than\n"
   ]
  },
  {
   "cell_type": "code",
   "execution_count": null,
   "metadata": {
    "id": "PbO9ZEQFGvHm"
   },
   "outputs": [],
   "source": [
    "\"\"\"def function_name():\n",
    "    #statements\n",
    "    yield statements\"\"\""
   ]
  },
  {
   "cell_type": "code",
   "execution_count": null,
   "metadata": {
    "id": "dJ8rmO5xG9ns"
   },
   "outputs": [],
   "source": [
    "def simplefun():\n",
    "    yield 1\n",
    "    yield 2\n",
    "    yield 3\n",
    "#driver code\n",
    "for i in simplefun():\n",
    "    print(i)\n"
   ]
  },
  {
   "cell_type": "code",
   "execution_count": null,
   "metadata": {
    "id": "Ji8MvgfgHTGO"
   },
   "outputs": [],
   "source": [
    "def simplefun():\n",
    "    yield 1\n",
    "    yield 2\n",
    "    yield 3\n",
    "#driver code\n",
    "a=simplefun()\n",
    "print(next(a))\n",
    "print(next(a))\n",
    "print(next(a))"
   ]
  },
  {
   "cell_type": "code",
   "execution_count": null,
   "metadata": {
    "id": "2mFVRmT6Homk"
   },
   "outputs": [],
   "source": [
    "def fun1(a):\n",
    "    print(\"a\",a,id(a))\n",
    "    a=a+1#local variable\n",
    "    print(\"inside of after\", a, id(a))\n",
    "a=10#global variable\n",
    "fun1(a)\n",
    "print(\"after\",a,id(a))"
   ]
  },
  {
   "cell_type": "code",
   "execution_count": null,
   "metadata": {
    "id": "i7eT2nbALnPW"
   },
   "outputs": [],
   "source": [
    "b=10\n",
    "def fun():\n",
    "    b=b+1\n",
    "    print(b)\n",
    "fun()"
   ]
  },
  {
   "cell_type": "code",
   "execution_count": null,
   "metadata": {
    "id": "z-tw2kD3MQHy"
   },
   "outputs": [],
   "source": [
    "#b=10\n",
    "def fun():\n",
    "    global b\n",
    "    b=b+1\n",
    "    print(b)\n",
    "b=10\n",
    "fun()\n",
    "print(\"after calling\",b)"
   ]
  },
  {
   "cell_type": "code",
   "execution_count": null,
   "metadata": {
    "id": "-a3Vum9LMder"
   },
   "outputs": [],
   "source": [
    "def fun():\n",
    "    #global b\n",
    "    c=20\n",
    "    c=c+10\n",
    "    print(c)\n",
    "c=10\n",
    "fun()\n",
    "print(\"after calling\",c)"
   ]
  },
  {
   "cell_type": "code",
   "execution_count": null,
   "metadata": {
    "id": "nE7zR4PWRH6b"
   },
   "outputs": [],
   "source": [
    "# i a m creating file which is module simply call it as .py\n",
    "def add(a,b):\n",
    "    return a+b\n",
    "def sub(a,b):\n",
    "    return a-b\n",
    "#save it in name module name"
   ]
  },
  {
   "cell_type": "code",
   "execution_count": null,
   "metadata": {
    "id": "dq6-KjkVSTrr"
   },
   "outputs": [],
   "source": [
    "from module_name import sub"
   ]
  },
  {
   "cell_type": "code",
   "execution_count": null,
   "metadata": {
    "id": "PRCSCD_WRf-s"
   },
   "outputs": [],
   "source": [
    "#new file\n",
    "import module_name\n",
    "print(module_name.add(2,3))"
   ]
  },
  {
   "cell_type": "code",
   "execution_count": null,
   "metadata": {
    "id": "ToxJ_QG2R6_f"
   },
   "outputs": [],
   "source": [
    "import numpy as np"
   ]
  },
  {
   "cell_type": "code",
   "execution_count": null,
   "metadata": {
    "id": "ZBltLz7BR-4O"
   },
   "outputs": [],
   "source": [
    "np.array([1,2,3,4])"
   ]
  },
  {
   "cell_type": "code",
   "execution_count": null,
   "metadata": {
    "id": "K9Bbn7LpSiSr"
   },
   "outputs": [],
   "source": [
    "from numpy import array"
   ]
  },
  {
   "cell_type": "code",
   "execution_count": null,
   "metadata": {
    "id": "0FHBNn4QUXR1"
   },
   "outputs": [],
   "source": [
    "def sum(a,b):\n",
    "    return a+b\n",
    "if __name__==\"__main__\":\n",
    "    print(sum(12,10))"
   ]
  },
  {
   "cell_type": "code",
   "execution_count": null,
   "metadata": {
    "id": "kIvu-vY2V_-U"
   },
   "outputs": [],
   "source": [
    "#map,N----->N\n",
    "#filter, splitting dataN-------->N-1\n",
    "#reduce,single output, N---->1"
   ]
  },
  {
   "cell_type": "code",
   "execution_count": null,
   "metadata": {
    "id": "2wy8GqiYWqc2"
   },
   "outputs": [],
   "source": [
    "l=[1,2,3,4]\n",
    "multiply=list(map(lambda x:x*2,l))"
   ]
  },
  {
   "cell_type": "code",
   "execution_count": null,
   "metadata": {
    "id": "DNmE6odMWsZY"
   },
   "outputs": [],
   "source": [
    "print(multiply)"
   ]
  },
  {
   "cell_type": "code",
   "execution_count": null,
   "metadata": {
    "id": "EiKQucP0XPzh"
   },
   "outputs": [],
   "source": [
    "l=[1,2,3,4]\n",
    "filting =list(filter(lambda x:x%2==0,l))"
   ]
  },
  {
   "cell_type": "code",
   "execution_count": null,
   "metadata": {
    "id": "5wHdD80IX7JX"
   },
   "outputs": [],
   "source": [
    "print(filting)"
   ]
  },
  {
   "cell_type": "code",
   "execution_count": null,
   "metadata": {
    "id": "DpiwKgVwYbXv"
   },
   "outputs": [],
   "source": [
    "import functools\n",
    "filting =functools.reduce(lambda x,y:x+y,l)"
   ]
  },
  {
   "cell_type": "code",
   "execution_count": null,
   "metadata": {
    "id": "WW3D83TwY7CV"
   },
   "outputs": [],
   "source": [
    "print(filting)"
   ]
  },
  {
   "cell_type": "code",
   "execution_count": null,
   "metadata": {
    "id": "5wUo52dAad4i"
   },
   "outputs": [],
   "source": [
    "l"
   ]
  },
  {
   "cell_type": "code",
   "execution_count": null,
   "metadata": {
    "id": "oekStNYZaf_t"
   },
   "outputs": [],
   "source": [
    "def fun(a):\n",
    "    return a*2\n",
    "list2=map(fun,l)\n",
    "print(list(list2))"
   ]
  },
  {
   "cell_type": "code",
   "execution_count": null,
   "metadata": {
    "id": "Shpw6ZpYauTT"
   },
   "outputs": [],
   "source": [
    "def fun(a):\n",
    "    for i in l:\n",
    "        if i%2==0:\n",
    "    print(i)\n",
    "list2=filter(fun,l)\n",
    "print(list(list2))"
   ]
  },
  {
   "cell_type": "code",
   "execution_count": 2,
   "metadata": {
    "id": "SJ9RuxL9bG6i"
   },
   "outputs": [
    {
     "name": "stdout",
     "output_type": "stream",
     "text": [
      "[2, 4, 6, 8]\n"
     ]
    }
   ],
   "source": [
    "S=[1,2,3,4,5,6,7,8]\n",
    "def fun2(a):\n",
    "    return a%2==0\n",
    "list5=filter(fun2,S)\n",
    "result=list(list5)\n",
    "print(result)"
   ]
  },
  {
   "cell_type": "code",
   "execution_count": null,
   "metadata": {},
   "outputs": [],
   "source": []
  }
 ],
 "metadata": {
  "colab": {
   "private_outputs": true,
   "provenance": []
  },
  "kernelspec": {
   "display_name": "Python 3 (ipykernel)",
   "language": "python",
   "name": "python3"
  },
  "language_info": {
   "codemirror_mode": {
    "name": "ipython",
    "version": 3
   },
   "file_extension": ".py",
   "mimetype": "text/x-python",
   "name": "python",
   "nbconvert_exporter": "python",
   "pygments_lexer": "ipython3",
   "version": "3.11.5"
  }
 },
 "nbformat": 4,
 "nbformat_minor": 1
}
