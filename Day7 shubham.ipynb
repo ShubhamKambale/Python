{
 "cells": [
  {
   "cell_type": "code",
   "execution_count": null,
   "id": "f46be301",
   "metadata": {},
   "outputs": [],
   "source": [
    "#operators\n",
    "aarithmatic\n",
    "logical\n",
    "assignement\n",
    "relational\n"
   ]
  },
  {
   "cell_type": "code",
   "execution_count": 1,
   "id": "fce27bf9",
   "metadata": {},
   "outputs": [],
   "source": [
    "#Bitwise Operators\n",
    "#&\n",
    "a=5"
   ]
  },
  {
   "cell_type": "code",
   "execution_count": 2,
   "id": "27773375",
   "metadata": {},
   "outputs": [],
   "source": [
    "b=4"
   ]
  },
  {
   "cell_type": "code",
   "execution_count": 3,
   "id": "302ea0a4",
   "metadata": {},
   "outputs": [
    {
     "data": {
      "text/plain": [
       "4"
      ]
     },
     "execution_count": 3,
     "metadata": {},
     "output_type": "execute_result"
    }
   ],
   "source": [
    "a&b"
   ]
  },
  {
   "cell_type": "code",
   "execution_count": 4,
   "id": "d39d4856",
   "metadata": {},
   "outputs": [],
   "source": [
    "x=6\n",
    "y=2"
   ]
  },
  {
   "cell_type": "code",
   "execution_count": 5,
   "id": "6dc282f7",
   "metadata": {},
   "outputs": [
    {
     "data": {
      "text/plain": [
       "2"
      ]
     },
     "execution_count": 5,
     "metadata": {},
     "output_type": "execute_result"
    }
   ],
   "source": [
    "x&y"
   ]
  },
  {
   "cell_type": "code",
   "execution_count": 6,
   "id": "47d5e3fc",
   "metadata": {},
   "outputs": [
    {
     "data": {
      "text/plain": [
       "2"
      ]
     },
     "execution_count": 6,
     "metadata": {},
     "output_type": "execute_result"
    }
   ],
   "source": [
    "6&2"
   ]
  },
  {
   "cell_type": "code",
   "execution_count": 7,
   "id": "1eb5bb3a",
   "metadata": {},
   "outputs": [
    {
     "data": {
      "text/plain": [
       "5"
      ]
     },
     "execution_count": 7,
     "metadata": {},
     "output_type": "execute_result"
    }
   ],
   "source": [
    "a|b"
   ]
  },
  {
   "cell_type": "code",
   "execution_count": 8,
   "id": "2d8a666a",
   "metadata": {},
   "outputs": [
    {
     "data": {
      "text/plain": [
       "6"
      ]
     },
     "execution_count": 8,
     "metadata": {},
     "output_type": "execute_result"
    }
   ],
   "source": [
    "6|2"
   ]
  },
  {
   "cell_type": "code",
   "execution_count": 9,
   "id": "fda2f2b3",
   "metadata": {},
   "outputs": [
    {
     "data": {
      "text/plain": [
       "5"
      ]
     },
     "execution_count": 9,
     "metadata": {},
     "output_type": "execute_result"
    }
   ],
   "source": [
    "a|b"
   ]
  },
  {
   "cell_type": "code",
   "execution_count": 10,
   "id": "859fe76f",
   "metadata": {},
   "outputs": [],
   "source": [
    "#~"
   ]
  },
  {
   "cell_type": "code",
   "execution_count": 11,
   "id": "9e654116",
   "metadata": {},
   "outputs": [
    {
     "data": {
      "text/plain": [
       "5"
      ]
     },
     "execution_count": 11,
     "metadata": {},
     "output_type": "execute_result"
    }
   ],
   "source": [
    "a"
   ]
  },
  {
   "cell_type": "code",
   "execution_count": 12,
   "id": "e3b9384c",
   "metadata": {},
   "outputs": [
    {
     "data": {
      "text/plain": [
       "-6"
      ]
     },
     "execution_count": 12,
     "metadata": {},
     "output_type": "execute_result"
    }
   ],
   "source": [
    "~a"
   ]
  },
  {
   "cell_type": "code",
   "execution_count": 13,
   "id": "206aa834",
   "metadata": {},
   "outputs": [],
   "source": [
    "#^ xor operator"
   ]
  },
  {
   "cell_type": "code",
   "execution_count": 14,
   "id": "dd327189",
   "metadata": {},
   "outputs": [
    {
     "data": {
      "text/plain": [
       "5"
      ]
     },
     "execution_count": 14,
     "metadata": {},
     "output_type": "execute_result"
    }
   ],
   "source": [
    "a"
   ]
  },
  {
   "cell_type": "code",
   "execution_count": 15,
   "id": "d9458da2",
   "metadata": {},
   "outputs": [
    {
     "data": {
      "text/plain": [
       "4"
      ]
     },
     "execution_count": 15,
     "metadata": {},
     "output_type": "execute_result"
    }
   ],
   "source": [
    "b"
   ]
  },
  {
   "cell_type": "code",
   "execution_count": 16,
   "id": "5581aad8",
   "metadata": {},
   "outputs": [
    {
     "data": {
      "text/plain": [
       "1"
      ]
     },
     "execution_count": 16,
     "metadata": {},
     "output_type": "execute_result"
    }
   ],
   "source": [
    "5^4"
   ]
  },
  {
   "cell_type": "code",
   "execution_count": 17,
   "id": "8ce8e299",
   "metadata": {},
   "outputs": [],
   "source": [
    "#>>"
   ]
  },
  {
   "cell_type": "code",
   "execution_count": 20,
   "id": "d69267cc",
   "metadata": {},
   "outputs": [
    {
     "data": {
      "text/plain": [
       "5"
      ]
     },
     "execution_count": 20,
     "metadata": {},
     "output_type": "execute_result"
    }
   ],
   "source": [
    "a"
   ]
  },
  {
   "cell_type": "code",
   "execution_count": 21,
   "id": "936b8cfa",
   "metadata": {},
   "outputs": [
    {
     "data": {
      "text/plain": [
       "5"
      ]
     },
     "execution_count": 21,
     "metadata": {},
     "output_type": "execute_result"
    }
   ],
   "source": [
    "a#------>0000 0101\n",
    "#righ shift is 0000 0001"
   ]
  },
  {
   "cell_type": "code",
   "execution_count": 22,
   "id": "29890c25",
   "metadata": {},
   "outputs": [
    {
     "data": {
      "text/plain": [
       "1"
      ]
     },
     "execution_count": 22,
     "metadata": {},
     "output_type": "execute_result"
    }
   ],
   "source": [
    "a>>2"
   ]
  },
  {
   "cell_type": "code",
   "execution_count": 23,
   "id": "860f712a",
   "metadata": {},
   "outputs": [
    {
     "data": {
      "text/plain": [
       "20"
      ]
     },
     "execution_count": 23,
     "metadata": {},
     "output_type": "execute_result"
    }
   ],
   "source": [
    "#left shift\n",
    "a<<2 #---0001 0100"
   ]
  },
  {
   "cell_type": "code",
   "execution_count": 24,
   "id": "7c40eaa5",
   "metadata": {},
   "outputs": [
    {
     "data": {
      "text/plain": [
       "8"
      ]
     },
     "execution_count": 24,
     "metadata": {},
     "output_type": "execute_result"
    }
   ],
   "source": [
    "5*2^2"
   ]
  },
  {
   "cell_type": "code",
   "execution_count": 25,
   "id": "95d794b8",
   "metadata": {},
   "outputs": [
    {
     "data": {
      "text/plain": [
       "0"
      ]
     },
     "execution_count": 25,
     "metadata": {},
     "output_type": "execute_result"
    }
   ],
   "source": [
    "2^2"
   ]
  },
  {
   "cell_type": "code",
   "execution_count": 26,
   "id": "95e423c5",
   "metadata": {},
   "outputs": [],
   "source": [
    "a=[1,2,3,5]"
   ]
  },
  {
   "cell_type": "code",
   "execution_count": 27,
   "id": "d71c2272",
   "metadata": {},
   "outputs": [
    {
     "data": {
      "text/plain": [
       "True"
      ]
     },
     "execution_count": 27,
     "metadata": {},
     "output_type": "execute_result"
    }
   ],
   "source": [
    "5 in a"
   ]
  },
  {
   "cell_type": "code",
   "execution_count": 30,
   "id": "e446d624",
   "metadata": {},
   "outputs": [
    {
     "name": "stdout",
     "output_type": "stream",
     "text": [
      "5 is inaside a\n"
     ]
    }
   ],
   "source": [
    "if 5 in a:\n",
    "    print(\"5 is inaside a\")\n",
    "    "
   ]
  },
  {
   "cell_type": "code",
   "execution_count": 31,
   "id": "af1ea3e6",
   "metadata": {},
   "outputs": [
    {
     "data": {
      "text/plain": [
       "False"
      ]
     },
     "execution_count": 31,
     "metadata": {},
     "output_type": "execute_result"
    }
   ],
   "source": [
    "4 in a"
   ]
  },
  {
   "cell_type": "code",
   "execution_count": 32,
   "id": "359a8545",
   "metadata": {},
   "outputs": [
    {
     "name": "stdout",
     "output_type": "stream",
     "text": [
      "4 is not inside a\n"
     ]
    }
   ],
   "source": [
    "if 4 in a:\n",
    "    print(\"4 is inside a\")\n",
    "else:\n",
    "    print(\"4 is not inside a\")"
   ]
  },
  {
   "cell_type": "code",
   "execution_count": 33,
   "id": "d5755078",
   "metadata": {},
   "outputs": [],
   "source": [
    "#identity operator\n",
    "a=10\n",
    "b=10"
   ]
  },
  {
   "cell_type": "code",
   "execution_count": 34,
   "id": "be86c4fb",
   "metadata": {},
   "outputs": [
    {
     "data": {
      "text/plain": [
       "True"
      ]
     },
     "execution_count": 34,
     "metadata": {},
     "output_type": "execute_result"
    }
   ],
   "source": [
    "a is b"
   ]
  },
  {
   "cell_type": "code",
   "execution_count": 35,
   "id": "df77bf70",
   "metadata": {},
   "outputs": [
    {
     "data": {
      "text/plain": [
       "True"
      ]
     },
     "execution_count": 35,
     "metadata": {},
     "output_type": "execute_result"
    }
   ],
   "source": [
    "a==b"
   ]
  },
  {
   "cell_type": "code",
   "execution_count": 36,
   "id": "789f1c59",
   "metadata": {},
   "outputs": [
    {
     "data": {
      "text/plain": [
       "-38"
      ]
     },
     "execution_count": 36,
     "metadata": {},
     "output_type": "execute_result"
    }
   ],
   "source": [
    "x=20\n",
    "y-40"
   ]
  },
  {
   "cell_type": "code",
   "execution_count": 37,
   "id": "c128ffd4",
   "metadata": {},
   "outputs": [
    {
     "data": {
      "text/plain": [
       "True"
      ]
     },
     "execution_count": 37,
     "metadata": {},
     "output_type": "execute_result"
    }
   ],
   "source": [
    "x is not y"
   ]
  },
  {
   "cell_type": "code",
   "execution_count": 38,
   "id": "73b41e36",
   "metadata": {},
   "outputs": [
    {
     "data": {
      "text/plain": [
       "False"
      ]
     },
     "execution_count": 38,
     "metadata": {},
     "output_type": "execute_result"
    }
   ],
   "source": [
    "x==y"
   ]
  },
  {
   "cell_type": "code",
   "execution_count": 39,
   "id": "ef42f010",
   "metadata": {},
   "outputs": [
    {
     "data": {
      "text/plain": [
       "10"
      ]
     },
     "execution_count": 39,
     "metadata": {},
     "output_type": "execute_result"
    }
   ],
   "source": [
    "2*(2+3)"
   ]
  },
  {
   "cell_type": "code",
   "execution_count": 40,
   "id": "aabe4e39",
   "metadata": {},
   "outputs": [
    {
     "data": {
      "text/plain": [
       "2"
      ]
     },
     "execution_count": 40,
     "metadata": {},
     "output_type": "execute_result"
    }
   ],
   "source": [
    "2+2-2"
   ]
  },
  {
   "cell_type": "code",
   "execution_count": 41,
   "id": "cc0686d9",
   "metadata": {},
   "outputs": [
    {
     "data": {
      "text/plain": [
       "-2.0"
      ]
     },
     "execution_count": 41,
     "metadata": {},
     "output_type": "execute_result"
    }
   ],
   "source": [
    "(2+3)/2%6//6-2"
   ]
  },
  {
   "cell_type": "code",
   "execution_count": 44,
   "id": "2907545c",
   "metadata": {},
   "outputs": [
    {
     "data": {
      "text/plain": [
       "2.5"
      ]
     },
     "execution_count": 44,
     "metadata": {},
     "output_type": "execute_result"
    }
   ],
   "source": [
    "2.5%6"
   ]
  },
  {
   "cell_type": "code",
   "execution_count": 45,
   "id": "57edb558",
   "metadata": {},
   "outputs": [
    {
     "data": {
      "text/plain": [
       "0.0"
      ]
     },
     "execution_count": 45,
     "metadata": {},
     "output_type": "execute_result"
    }
   ],
   "source": [
    "2.5//6"
   ]
  },
  {
   "cell_type": "code",
   "execution_count": 46,
   "id": "4cab0703",
   "metadata": {},
   "outputs": [
    {
     "data": {
      "text/plain": [
       "-0.25"
      ]
     },
     "execution_count": 46,
     "metadata": {},
     "output_type": "execute_result"
    }
   ],
   "source": [
    "2+3/4-(2*2**3)%4-3"
   ]
  },
  {
   "cell_type": "code",
   "execution_count": 47,
   "id": "f8b76c69",
   "metadata": {},
   "outputs": [
    {
     "data": {
      "text/plain": [
       "3"
      ]
     },
     "execution_count": 47,
     "metadata": {},
     "output_type": "execute_result"
    }
   ],
   "source": [
    "2**3>>3+2^3"
   ]
  },
  {
   "cell_type": "code",
   "execution_count": 49,
   "id": "6fecb0dc",
   "metadata": {},
   "outputs": [],
   "source": [
    "#python functions\n",
    "#1.build functions \n",
    "#2.module based or library  based or package based functions \n",
    "#3.user defined functions\n",
    "# To organize the code\n",
    "# To eliminate the code dublication \n",
    "# reuse again and again."
   ]
  },
  {
   "cell_type": "code",
   "execution_count": 50,
   "id": "f5988c2a",
   "metadata": {},
   "outputs": [
    {
     "data": {
      "text/plain": [
       "array('i', [1, 2, 3, 3])"
      ]
     },
     "execution_count": 50,
     "metadata": {},
     "output_type": "execute_result"
    }
   ],
   "source": [
    "import array\n",
    "array.array(\"i\",(1,2,3,3))"
   ]
  },
  {
   "cell_type": "code",
   "execution_count": null,
   "id": "b643a2c5",
   "metadata": {},
   "outputs": [],
   "source": [
    "#Synatax of function:\n",
    "def function_name(parameters):\n",
    "    <statements>\n",
    "    return value"
   ]
  },
  {
   "cell_type": "code",
   "execution_count": 52,
   "id": "4419c211",
   "metadata": {},
   "outputs": [],
   "source": [
    "def fun():\n",
    "    pass"
   ]
  },
  {
   "cell_type": "code",
   "execution_count": 58,
   "id": "2ecb1574",
   "metadata": {},
   "outputs": [],
   "source": [
    "def fun():\n",
    "    return(\"hello world\")\n",
    "   # print(\"hello world\")\n",
    "    #driver code\n",
    "    #function calling\n",
    "    fun()\n",
    "    "
   ]
  },
  {
   "cell_type": "code",
   "execution_count": 59,
   "id": "f5034075",
   "metadata": {},
   "outputs": [
    {
     "data": {
      "text/plain": [
       "20"
      ]
     },
     "execution_count": 59,
     "metadata": {},
     "output_type": "execute_result"
    }
   ],
   "source": [
    "a+b"
   ]
  },
  {
   "cell_type": "code",
   "execution_count": 60,
   "id": "c6de7187",
   "metadata": {},
   "outputs": [
    {
     "data": {
      "text/plain": [
       "20"
      ]
     },
     "execution_count": 60,
     "metadata": {},
     "output_type": "execute_result"
    }
   ],
   "source": [
    "def add(a,b):#a,b are parameters\n",
    "    c=a+b\n",
    "    return c\n",
    "add(10,10)#arguments"
   ]
  },
  {
   "cell_type": "code",
   "execution_count": 63,
   "id": "724b210b",
   "metadata": {},
   "outputs": [
    {
     "name": "stdout",
     "output_type": "stream",
     "text": [
      "20\n"
     ]
    }
   ],
   "source": [
    "def add(a,b):#a,b are parameters\n",
    "    return a+b\n",
    "d=add(10,10)#arguments\n",
    "print(d)"
   ]
  },
  {
   "cell_type": "code",
   "execution_count": 64,
   "id": "96a33b1b",
   "metadata": {},
   "outputs": [
    {
     "data": {
      "text/plain": [
       "30"
      ]
     },
     "execution_count": 64,
     "metadata": {},
     "output_type": "execute_result"
    }
   ],
   "source": [
    "sum((10,20)) #builtin sum of elements"
   ]
  },
  {
   "cell_type": "code",
   "execution_count": 65,
   "id": "7bfb1f80",
   "metadata": {},
   "outputs": [
    {
     "data": {
      "text/plain": [
       "40"
      ]
     },
     "execution_count": 65,
     "metadata": {},
     "output_type": "execute_result"
    }
   ],
   "source": [
    "sum((20,20))"
   ]
  },
  {
   "cell_type": "code",
   "execution_count": 66,
   "id": "74365735",
   "metadata": {},
   "outputs": [
    {
     "data": {
      "text/plain": [
       "40"
      ]
     },
     "execution_count": 66,
     "metadata": {},
     "output_type": "execute_result"
    }
   ],
   "source": [
    "def add(a,b):#a,b are parameters\n",
    "    c=a+b\n",
    "    return c\n",
    "add(20,20)#arguments"
   ]
  },
  {
   "cell_type": "code",
   "execution_count": 67,
   "id": "6ef1918a",
   "metadata": {},
   "outputs": [
    {
     "data": {
      "text/plain": [
       "70"
      ]
     },
     "execution_count": 67,
     "metadata": {},
     "output_type": "execute_result"
    }
   ],
   "source": [
    "add(30,40)"
   ]
  },
  {
   "cell_type": "code",
   "execution_count": 68,
   "id": "3fb15380",
   "metadata": {},
   "outputs": [
    {
     "data": {
      "text/plain": [
       "110"
      ]
     },
     "execution_count": 68,
     "metadata": {},
     "output_type": "execute_result"
    }
   ],
   "source": [
    "add(50,60)"
   ]
  },
  {
   "cell_type": "code",
   "execution_count": 69,
   "id": "a129706a",
   "metadata": {},
   "outputs": [
    {
     "name": "stdout",
     "output_type": "stream",
     "text": [
      "70\n"
     ]
    }
   ],
   "source": [
    "def fun1(a,b):\n",
    "    return a+b\n",
    "res=fun1(20,30)+20\n",
    "print(res)#res is variable it is responsible for holding data"
   ]
  },
  {
   "cell_type": "code",
   "execution_count": 70,
   "id": "edeb2840",
   "metadata": {},
   "outputs": [],
   "source": [
    "#funtion with default value\n"
   ]
  },
  {
   "cell_type": "code",
   "execution_count": 78,
   "id": "c8a8e2f0",
   "metadata": {},
   "outputs": [
    {
     "name": "stdout",
     "output_type": "stream",
     "text": [
      "my name is shubham, and age is 25\n"
     ]
    }
   ],
   "source": [
    "def fun2(name,age=25):\n",
    "    print(f'my name is {name}, and age is {age}')\n",
    "fun2(\"shubham\")"
   ]
  },
  {
   "cell_type": "code",
   "execution_count": 80,
   "id": "e8b7ddc4",
   "metadata": {},
   "outputs": [
    {
     "name": "stdout",
     "output_type": "stream",
     "text": [
      "my name isganesh, and age is 35\n"
     ]
    }
   ],
   "source": [
    "def fun2(name,age=30):\n",
    "    print(f'my name is{name}, and age is {age}')\n",
    "fun2(\"ganesh\",35)"
   ]
  },
  {
   "cell_type": "code",
   "execution_count": 83,
   "id": "c944bc8f",
   "metadata": {},
   "outputs": [
    {
     "name": "stdout",
     "output_type": "stream",
     "text": [
      "my name isganesh, and age is 35 my marks 80\n",
      "my name isShubham, and age is 25 my marks 90\n"
     ]
    }
   ],
   "source": [
    "def fun2(name,age=30,marks=65):\n",
    "    print(f'my name is{name}, and age is {age} my marks {marks}')\n",
    "fun2(\"ganesh\",35,80)\n",
    "fun2(\"Shubham\",25,90)"
   ]
  },
  {
   "cell_type": "code",
   "execution_count": 85,
   "id": "4ef128a8",
   "metadata": {},
   "outputs": [
    {
     "ename": "TypeError",
     "evalue": "fun3() missing 1 required positional argument: 'b'",
     "output_type": "error",
     "traceback": [
      "\u001b[1;31m---------------------------------------------------------------------------\u001b[0m",
      "\u001b[1;31mTypeError\u001b[0m                                 Traceback (most recent call last)",
      "Cell \u001b[1;32mIn[85], line 4\u001b[0m\n\u001b[0;32m      2\u001b[0m \u001b[38;5;28;01mdef\u001b[39;00m \u001b[38;5;21mfun3\u001b[39m(a,b):\n\u001b[0;32m      3\u001b[0m     \u001b[38;5;28mprint\u001b[39m(a,b)\n\u001b[1;32m----> 4\u001b[0m fun3(\u001b[38;5;241m12\u001b[39m)\n\u001b[0;32m      5\u001b[0m fun3(\u001b[38;5;241m15\u001b[39m,\u001b[38;5;241m8\u001b[39m)\n\u001b[0;32m      6\u001b[0m fun3(\u001b[38;5;241m5\u001b[39m,\u001b[38;5;241m8\u001b[39m,\u001b[38;5;241m9\u001b[39m,\u001b[38;5;241m4\u001b[39m)\n",
      "\u001b[1;31mTypeError\u001b[0m: fun3() missing 1 required positional argument: 'b'"
     ]
    }
   ],
   "source": [
    "#funtion with variable length argument:\n",
    "def fun3(a,b):\n",
    "    print(a,b)\n",
    "fun3(12)\n",
    "fun3(15,8)\n",
    "fun3(5,8,9,4)"
   ]
  },
  {
   "cell_type": "code",
   "execution_count": 86,
   "id": "75aae3ab",
   "metadata": {},
   "outputs": [
    {
     "name": "stdout",
     "output_type": "stream",
     "text": [
      "12 90\n",
      "15 8\n"
     ]
    },
    {
     "ename": "TypeError",
     "evalue": "fun3() takes from 1 to 2 positional arguments but 4 were given",
     "output_type": "error",
     "traceback": [
      "\u001b[1;31m---------------------------------------------------------------------------\u001b[0m",
      "\u001b[1;31mTypeError\u001b[0m                                 Traceback (most recent call last)",
      "Cell \u001b[1;32mIn[86], line 6\u001b[0m\n\u001b[0;32m      4\u001b[0m fun3(\u001b[38;5;241m12\u001b[39m)\n\u001b[0;32m      5\u001b[0m fun3(\u001b[38;5;241m15\u001b[39m,\u001b[38;5;241m8\u001b[39m)\n\u001b[1;32m----> 6\u001b[0m fun3(\u001b[38;5;241m5\u001b[39m,\u001b[38;5;241m8\u001b[39m,\u001b[38;5;241m9\u001b[39m,\u001b[38;5;241m4\u001b[39m)\n",
      "\u001b[1;31mTypeError\u001b[0m: fun3() takes from 1 to 2 positional arguments but 4 were given"
     ]
    }
   ],
   "source": [
    "#funtion with variable length argument:\n",
    "def fun3(a,b=90):\n",
    "    print(a,b)\n",
    "fun3(12)\n",
    "fun3(15,8)\n",
    "fun3(5,8,9,4)"
   ]
  },
  {
   "cell_type": "code",
   "execution_count": 88,
   "id": "fc5e048f",
   "metadata": {},
   "outputs": [
    {
     "name": "stdout",
     "output_type": "stream",
     "text": [
      "12 ()\n",
      "15 (8,)\n",
      "5 (8, 9, 4)\n"
     ]
    }
   ],
   "source": [
    "#funtion with variable length argument:\n",
    "def fun3(a,*b):\n",
    "    print(a,b)\n",
    "fun3(12)  #result b embty\n",
    "fun3(15,8)  #b is 3\n",
    "fun3(5,8,9,4)  #b is tuple which having "
   ]
  },
  {
   "cell_type": "code",
   "execution_count": 89,
   "id": "523029b3",
   "metadata": {},
   "outputs": [],
   "source": [
    "#Funtion with key word argument"
   ]
  },
  {
   "cell_type": "code",
   "execution_count": 92,
   "id": "0684959c",
   "metadata": {},
   "outputs": [
    {
     "name": "stdout",
     "output_type": "stream",
     "text": [
      "{'name': 'shubham', 'marks': 70} <class 'dict'>\n"
     ]
    }
   ],
   "source": [
    "def fun4(**kwargs):  #keywords arguments\n",
    "    print(kwargs,type(kwargs))\n",
    "fun4(name=\"shubham\",marks=70)"
   ]
  },
  {
   "cell_type": "code",
   "execution_count": 93,
   "id": "7ca98544",
   "metadata": {},
   "outputs": [],
   "source": [
    "#PA=Possition arguments\n",
    "#DA=Default arguments\n",
    "#VA=Varibale length arguments\n",
    "#KWA=Keyword Argument\n"
   ]
  },
  {
   "cell_type": "code",
   "execution_count": 94,
   "id": "e08e3216",
   "metadata": {},
   "outputs": [],
   "source": [
    "#using funtion input---->a=\"1/2/3/4/h\"\n",
    "#output=[1,2,3,4,\"h\"]"
   ]
  },
  {
   "cell_type": "code",
   "execution_count": 106,
   "id": "75c60925",
   "metadata": {},
   "outputs": [
    {
     "name": "stdout",
     "output_type": "stream",
     "text": [
      "[1, 2, 3, 4, 'h', 1, 2, 3, 4, 'h']\n"
     ]
    }
   ],
   "source": [
    "def split_string(a):\n",
    "    b=[]\n",
    "for i in a.split('/'):\n",
    "    if i.isdigit():\n",
    "        b.append(int(i))\n",
    "    else:\n",
    "        b.append(i)\n",
    "c=split_string(\"1/2/3/4/h\")\n",
    "print(b)"
   ]
  },
  {
   "cell_type": "code",
   "execution_count": 105,
   "id": "83aac398",
   "metadata": {},
   "outputs": [
    {
     "name": "stdout",
     "output_type": "stream",
     "text": [
      "[1, 2, 3, 4, 'h']\n"
     ]
    }
   ],
   "source": [
    "a=\"1/2/3/4/h\"\n",
    "b=[]\n",
    "for i in a.split('/'):\n",
    "    if i.isdigit():\n",
    "        b.append(int(i))\n",
    "    else:\n",
    "        b.append(i)\n",
    "print(b)"
   ]
  },
  {
   "cell_type": "code",
   "execution_count": null,
   "id": "7998cfdc",
   "metadata": {},
   "outputs": [],
   "source": [
    "#pass by referance(Sending actual value) or pass by value (sending cpy value)"
   ]
  },
  {
   "cell_type": "code",
   "execution_count": 112,
   "id": "dbde8eb7",
   "metadata": {},
   "outputs": [
    {
     "name": "stdout",
     "output_type": "stream",
     "text": [
      "inside before appending [1, 2, 3] 2223961675776\n",
      "after appending [1, 2, 3, 30] 2223961675776\n",
      "[1, 2, 3, 30]\n",
      "after calling appending [1, 2, 3, 30] 2223961675776\n"
     ]
    }
   ],
   "source": [
    "#python only pass by referance\n",
    "def fun(x1):\n",
    "    print(\"inside before appending\",x1,id(x1))\n",
    "    x1.append(30)\n",
    "    print(\"after appending\",x1,id(x1))\n",
    "list1=([1,2,3])\n",
    "fun(list1)\n",
    "print(list1)\n",
    "\n",
    "print(\"after calling appending\",list1,id(list1))"
   ]
  },
  {
   "cell_type": "code",
   "execution_count": null,
   "id": "9bf7aa23",
   "metadata": {},
   "outputs": [],
   "source": [
    "#lamda functions\n",
    "1.anynoumous funtion\n",
    "2.simply single line sytatement\n",
    "3.we can call fun name as a argument for other built in functions"
   ]
  },
  {
   "cell_type": "code",
   "execution_count": 114,
   "id": "8449ea55",
   "metadata": {},
   "outputs": [],
   "source": [
    "def add1(a,b):\n",
    "    return a+b\n",
    "    add1(2,3)"
   ]
  },
  {
   "cell_type": "code",
   "execution_count": 115,
   "id": "6ef62fac",
   "metadata": {},
   "outputs": [],
   "source": [
    "a=lambda a,b:a+b"
   ]
  },
  {
   "cell_type": "code",
   "execution_count": 116,
   "id": "8d21e2aa",
   "metadata": {},
   "outputs": [
    {
     "data": {
      "text/plain": [
       "5"
      ]
     },
     "execution_count": 116,
     "metadata": {},
     "output_type": "execute_result"
    }
   ],
   "source": [
    "a(2,3)"
   ]
  },
  {
   "cell_type": "code",
   "execution_count": 117,
   "id": "2e826911",
   "metadata": {},
   "outputs": [],
   "source": [
    "#comprehension\n",
    "#List\n",
    "#set\n",
    "#dictionary \n",
    "#Genrator"
   ]
  },
  {
   "cell_type": "code",
   "execution_count": 125,
   "id": "b85168c6",
   "metadata": {},
   "outputs": [
    {
     "name": "stdout",
     "output_type": "stream",
     "text": [
      "[2, 4]\n"
     ]
    }
   ],
   "source": [
    "list1=[1,2,3,4,]\n",
    "liat2=[]\n",
    "for i in list1:\n",
    "    if i%2==0:\n",
    "        liat2.append(i)\n",
    "print(liat2)"
   ]
  },
  {
   "cell_type": "code",
   "execution_count": 128,
   "id": "451a6e83",
   "metadata": {},
   "outputs": [],
   "source": [
    "#list comprehension\n",
    "#Syntax:\n",
    "#a=[statement(Expression), for var in list, condition]"
   ]
  },
  {
   "cell_type": "code",
   "execution_count": 134,
   "id": "3d78c670",
   "metadata": {},
   "outputs": [
    {
     "name": "stdout",
     "output_type": "stream",
     "text": [
      "[1, 4, 9, 16]\n"
     ]
    }
   ],
   "source": [
    "v=[x**2 for x in list1]\n",
    "print(v)"
   ]
  },
  {
   "cell_type": "code",
   "execution_count": 136,
   "id": "90316120",
   "metadata": {},
   "outputs": [
    {
     "data": {
      "text/plain": [
       "[1, 2, 3, 4, 1, 2, 3, 4]"
      ]
     },
     "execution_count": 136,
     "metadata": {},
     "output_type": "execute_result"
    }
   ],
   "source": [
    "list1*2"
   ]
  },
  {
   "cell_type": "code",
   "execution_count": 137,
   "id": "a0ec05eb",
   "metadata": {},
   "outputs": [],
   "source": [
    "#list comprehension\n",
    "#Syntax:\n",
    "#a={statement(Expression), for var in list, condition}"
   ]
  },
  {
   "cell_type": "code",
   "execution_count": 140,
   "id": "3018d567",
   "metadata": {},
   "outputs": [
    {
     "name": "stdout",
     "output_type": "stream",
     "text": [
      "{3, 4, 5}\n"
     ]
    }
   ],
   "source": [
    "set1={1,2,3,}\n",
    "v={x+2 for x in set1 if 2 in set1}\n",
    "print(v)"
   ]
  },
  {
   "cell_type": "code",
   "execution_count": 141,
   "id": "be3222b2",
   "metadata": {},
   "outputs": [
    {
     "data": {
      "text/plain": [
       "[1, 2, 3, 4]"
      ]
     },
     "execution_count": 141,
     "metadata": {},
     "output_type": "execute_result"
    }
   ],
   "source": [
    "#Enumerate\n",
    "list1\n",
    "for i in list1:\n",
    "    enumerate"
   ]
  },
  {
   "cell_type": "code",
   "execution_count": 142,
   "id": "9c54e428",
   "metadata": {
    "scrolled": true
   },
   "outputs": [
    {
     "ename": "AttributeError",
     "evalue": "'list' object has no attribute 'enumerate'",
     "output_type": "error",
     "traceback": [
      "\u001b[1;31m---------------------------------------------------------------------------\u001b[0m",
      "\u001b[1;31mAttributeError\u001b[0m                            Traceback (most recent call last)",
      "Cell \u001b[1;32mIn[142], line 1\u001b[0m\n\u001b[1;32m----> 1\u001b[0m \u001b[38;5;28;01mfor\u001b[39;00m i \u001b[38;5;129;01min\u001b[39;00m list1\u001b[38;5;241m.\u001b[39menumerate:\n\u001b[0;32m      2\u001b[0m     \u001b[38;5;28mprint\u001b[39m(i)\n",
      "\u001b[1;31mAttributeError\u001b[0m: 'list' object has no attribute 'enumerate'"
     ]
    }
   ],
   "source": [
    "x=('apple', 'banana')"
   ]
  },
  {
   "cell_type": "code",
   "execution_count": null,
   "id": "4552964d",
   "metadata": {},
   "outputs": [],
   "source": [
    "#S16-10-2023Assignemnt=convert list into dictionary using enumerate"
   ]
  },
  {
   "cell_type": "code",
   "execution_count": 144,
   "id": "58d16a11",
   "metadata": {},
   "outputs": [
    {
     "name": "stdout",
     "output_type": "stream",
     "text": [
      "{0: 1, 1: 2, 2: 3, 3: 4}\n"
     ]
    }
   ],
   "source": [
    "list1=[1,2,3,4,]\n",
    "x1=dict(enumerate(list1))\n",
    "\n",
    "print(x1)"
   ]
  },
  {
   "cell_type": "code",
   "execution_count": null,
   "id": "f5a0abcc",
   "metadata": {},
   "outputs": [],
   "source": []
  }
 ],
 "metadata": {
  "kernelspec": {
   "display_name": "Python 3 (ipykernel)",
   "language": "python",
   "name": "python3"
  },
  "language_info": {
   "codemirror_mode": {
    "name": "ipython",
    "version": 3
   },
   "file_extension": ".py",
   "mimetype": "text/x-python",
   "name": "python",
   "nbconvert_exporter": "python",
   "pygments_lexer": "ipython3",
   "version": "3.11.5"
  }
 },
 "nbformat": 4,
 "nbformat_minor": 5
}
